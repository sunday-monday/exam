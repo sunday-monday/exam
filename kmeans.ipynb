{
 "cells": [
  {
   "cell_type": "code",
   "execution_count": 91,
   "id": "a34fefee",
   "metadata": {},
   "outputs": [],
   "source": [
    "import pandas as pd\n",
    "import numpy as np\n",
    "import matplotlib.pyplot as plt\n",
    "from copy import deepcopy"
   ]
  },
  {
   "cell_type": "code",
   "execution_count": 92,
   "id": "3a3daa41",
   "metadata": {},
   "outputs": [],
   "source": [
    "k=3"
   ]
  },
  {
   "cell_type": "code",
   "execution_count": 68,
   "id": "87ffe910",
   "metadata": {},
   "outputs": [],
   "source": [
    "df=pd.read_csv('kmeans.csv')"
   ]
  },
  {
   "cell_type": "code",
   "execution_count": 69,
   "id": "7e83f8b4",
   "metadata": {},
   "outputs": [
    {
     "data": {
      "image/png": "[encoded data removed]",
      "text/plain": [
       "<Figure size 432x288 with 1 Axes>"
      ]
     },
     "metadata": {
      "needs_background": "light"
     },
     "output_type": "display_data"
    }
   ],
   "source": [
    "plt.scatter(df['X1'],df['X2'])\n",
    "plt.show()"
   ]
  },
  {
   "cell_type": "code",
   "execution_count": 70,
   "id": "fff689d5",
   "metadata": {},
   "outputs": [
    {
     "data": {
      "text/plain": [
       "array([[5.9, 3.2],\n",
       "       [4.6, 2.9],\n",
       "       [6.2, 2.8],\n",
       "       [4.7, 3.2],\n",
       "       [5.5, 4.2],\n",
       "       [5. , 3. ],\n",
       "       [4.9, 3.1],\n",
       "       [6.7, 3.1],\n",
       "       [5.1, 3.8],\n",
       "       [6. , 3. ]])"
      ]
     },
     "execution_count": 70,
     "metadata": {},
     "output_type": "execute_result"
    }
   ],
   "source": [
    "x1=df['X1'].values\n",
    "x2=df['X2'].values\n",
    "points=np.array(list(zip(x1,x2)))\n",
    "points"
   ]
  },
  {
   "cell_type": "code",
   "execution_count": 71,
   "id": "51243196",
   "metadata": {},
   "outputs": [
    {
     "data": {
      "text/plain": [
       "array([[6.2, 3.2],\n",
       "       [6.6, 3.7],\n",
       "       [6.5, 3. ]])"
      ]
     },
     "execution_count": 71,
     "metadata": {},
     "output_type": "execute_result"
    }
   ],
   "source": [
    "cx=[6.2, 6.6 ,6.5]\n",
    "cy=[3.2, 3.7, 3.0]\n",
    "centroids=np.array(list(zip(cx,cy)))\n",
    "centroids"
   ]
  },
  {
   "cell_type": "code",
   "execution_count": 72,
   "id": "abc599d5",
   "metadata": {},
   "outputs": [
    {
     "data": {
      "text/plain": [
       "array([[0., 0.],\n",
       "       [0., 0.],\n",
       "       [0., 0.]])"
      ]
     },
     "execution_count": 72,
     "metadata": {},
     "output_type": "execute_result"
    }
   ],
   "source": [
    "old_centroids=np.zeros(centroids.shape)\n",
    "old_centroids"
   ]
  },
  {
   "cell_type": "code",
   "execution_count": 73,
   "id": "a3b96815",
   "metadata": {},
   "outputs": [],
   "source": [
    "def euclidean(a,b,ax=1):\n",
    "    return np.linalg.norm(a-b,axis=ax)"
   ]
  },
  {
   "cell_type": "code",
   "execution_count": 74,
   "id": "b564bac3",
   "metadata": {},
   "outputs": [
    {
     "data": {
      "text/plain": [
       "12.53714481052205"
      ]
     },
     "execution_count": 74,
     "metadata": {},
     "output_type": "execute_result"
    }
   ],
   "source": [
    "error=euclidean(centroids,old_centroids,None)\n",
    "error"
   ]
  },
  {
   "cell_type": "code",
   "execution_count": 75,
   "id": "77ac112b",
   "metadata": {},
   "outputs": [
    {
     "data": {
      "text/plain": [
       "array([0., 0., 0., 0., 0., 0., 0., 0., 0., 0.])"
      ]
     },
     "execution_count": 75,
     "metadata": {},
     "output_type": "execute_result"
    }
   ],
   "source": [
    "clusters=np.zeros(len(points))\n",
    "clusters"
   ]
  },
  {
   "cell_type": "code",
   "execution_count": 86,
   "id": "0e2a7302",
   "metadata": {},
   "outputs": [],
   "source": [
    "# colors=np.zeros(len(points))"
   ]
  },
  {
   "cell_type": "code",
   "execution_count": 76,
   "id": "83d1780f",
   "metadata": {},
   "outputs": [
    {
     "name": "stdout",
     "output_type": "stream",
     "text": [
      "new iteration**************************************\n",
      "clusters:  [0. 0. 2. 0. 1. 0. 0. 2. 0. 0.]\n",
      "centroids:  [[5.17142857 3.17142857]\n",
      " [5.5        4.2       ]\n",
      " [6.45       2.95      ]]\n",
      "error:  1.588639515498743\n",
      "new iteration**************************************\n",
      "clusters:  [2. 0. 2. 0. 1. 0. 0. 2. 1. 2.]\n",
      "centroids:  [[4.8   3.05 ]\n",
      " [5.3   4.   ]\n",
      " [6.2   3.025]]\n",
      "error:  0.5484788798419251\n",
      "new iteration**************************************\n",
      "clusters:  [2. 0. 2. 0. 1. 0. 0. 2. 1. 2.]\n",
      "centroids:  [[4.8   3.05 ]\n",
      " [5.3   4.   ]\n",
      " [6.2   3.025]]\n",
      "error:  0.0\n"
     ]
    }
   ],
   "source": [
    "while error!=0:\n",
    "    for i in range(len(points)):\n",
    "        distances=euclidean(points[i],centroids)\n",
    "        clusters[i]=np.argmin(distances)\n",
    "    old_centroids = deepcopy(centroids)\n",
    "    for j in range(k):\n",
    "        points_in_cluster=[points[a] for a in range(len(points)) if clusters[a]==j ]\n",
    "        centroids[j]=np.mean(points_in_cluster,axis=0)\n",
    "    error=euclidean(centroids,old_centroids,None)\n",
    "    print(\"new iteration**************************************\")\n",
    "    print(\"clusters: \",clusters)\n",
    "    print(\"centroids: \",centroids)\n",
    "    print(\"error: \",error)"
   ]
  },
  {
   "cell_type": "code",
   "execution_count": 88,
   "id": "b9f373ae",
   "metadata": {},
   "outputs": [],
   "source": [
    "colors=[]\n",
    "for i in range(len(clusters)):\n",
    "    if clusters[i]==0:\n",
    "        colors.append('r')\n",
    "    elif clusters[i]==1:\n",
    "        colors.append('g')\n",
    "    else:\n",
    "        colors.append('b')"
   ]
  },
  {
   "cell_type": "code",
   "execution_count": 90,
   "id": "7574e02b",
   "metadata": {},
   "outputs": [
    {
     "data": {
      "image/png": "[encoded data removed]",
      "text/plain": [
       "<Figure size 432x288 with 1 Axes>"
      ]
     },
     "metadata": {
      "needs_background": "light"
     },
     "output_type": "display_data"
    }
   ],
   "source": [
    "plt.scatter(df['X1'],df['X2'],c=colors)\n",
    "plt.show()"
   ]
  },
  {
   "cell_type": "code",
   "execution_count": null,
   "id": "62702f85",
   "metadata": {},
   "outputs": [],
   "source": []
  }
 ],
 "metadata": {
  "kernelspec": {
   "display_name": "Python 3 (ipykernel)",
   "language": "python",
   "name": "python3"
  },
  "language_info": {
   "codemirror_mode": {
    "name": "ipython",
    "version": 3
   },
   "file_extension": ".py",
   "mimetype": "text/x-python",
   "name": "python",
   "nbconvert_exporter": "python",
   "pygments_lexer": "ipython3",
   "version": "3.9.7"
  }
 },
 "nbformat": 4,
 "nbformat_minor": 5
}
