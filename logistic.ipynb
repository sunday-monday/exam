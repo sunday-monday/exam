{
 "cells": [
  {
   "cell_type": "code",
   "execution_count": 398,
   "id": "f5cf843c",
   "metadata": {},
   "outputs": [],
   "source": [
    "from random import seed\n",
    "from random import randrange\n",
    "from math import exp\n",
    "import pandas as pd\n",
    "import numpy as np\n",
    "from sklearn.model_selection import train_test_split\n",
    "from sklearn.model_selection import KFold\n",
    "from sklearn.preprocessing import StandardScaler"
   ]
  },
  {
   "cell_type": "code",
   "execution_count": 399,
   "id": "20bd3453",
   "metadata": {},
   "outputs": [],
   "source": [
    "df=pd.read_csv('stud-univ.csv',names=['x1','x2','y'])"
   ]
  },
  {
   "cell_type": "code",
   "execution_count": 400,
   "id": "3ba3840b",
   "metadata": {},
   "outputs": [],
   "source": [
    "x=df.drop(columns=['y']).values\n",
    "x=preprocessing.scale(x)\n",
    "y=df['y'].values"
   ]
  },
  {
   "cell_type": "code",
   "execution_count": 390,
   "id": "3524fef4",
   "metadata": {},
   "outputs": [],
   "source": [
    "kf = KFold(n_splits=5) "
   ]
  },
  {
   "cell_type": "code",
   "execution_count": 391,
   "id": "16371849",
   "metadata": {},
   "outputs": [],
   "source": [
    "for train_index , test_index in kf.split(x):\n",
    "    xtrain,xtest,ytrain,ytest=train_test_split(x,y)\n",
    "    x1=xtrain[:,0]\n",
    "    x2=xtrain[:,1]\n",
    "    b0=0.0\n",
    "    b1=0.0\n",
    "    b2=0.0\n",
    "    alpha=0.01\n",
    "    epoch=100\n",
    "    for j in range(epoch):\n",
    "        for i in range(len(xtrain)):\n",
    "            pred=1/(1+np.exp(-(b0+b1*x1[i]+b2*x2[i])))\n",
    "            b0=b0+(alpha*(ytrain[i]-pred)*pred*(1-pred)*1)\n",
    "            b1=b1+(alpha*(ytrain[i]-pred)*pred*(1-pred)*x1[i])\n",
    "            b2=b2+(alpha*(ytrain[i]-pred)*pred*(1-pred)*x2[i])\n",
    "        "
   ]
  },
  {
   "cell_type": "code",
   "execution_count": 392,
   "id": "e4f4467a",
   "metadata": {},
   "outputs": [
    {
     "name": "stdout",
     "output_type": "stream",
     "text": [
      "new epoch*********************\n",
      "0.7315692321038393 1.6037290464743545 1.2495499946160513\n",
      "new epoch*********************\n",
      "0.5486496422031552 1.405794741287989 1.2002368687713645\n",
      "new epoch*********************\n",
      "0.6378697609343734 1.417733196073097 1.2929729073561629\n",
      "new epoch*********************\n",
      "0.7423268721001409 1.219046785405932 1.5124475129147668\n",
      "new epoch*********************\n",
      "0.5566724919456261 1.3482689186549814 1.4394034497929435\n"
     ]
    }
   ],
   "source": [
    "print(b0)\n",
    "print(b1)\n",
    "print(b2)"
   ]
  },
  {
   "cell_type": "code",
   "execution_count": 393,
   "id": "ac7921d3",
   "metadata": {},
   "outputs": [
    {
     "name": "stdout",
     "output_type": "stream",
     "text": [
      "0.5566724919456261 1.3482689186549814 1.4394034497929435\n"
     ]
    }
   ],
   "source": [
    "x1=xtest[:,0]\n",
    "x2=xtest[:,1]\n",
    "prediction=[]"
   ]
  },
  {
   "cell_type": "code",
   "execution_count": 394,
   "id": "e02b175b",
   "metadata": {},
   "outputs": [],
   "source": [
    "for i in range(len(xtest)):\n",
    "    pred=1/(1+np.exp(-(b0+b1*x1[i]+b2*x2[i])))\n",
    "    prediction.append(np.round(pred))"
   ]
  },
  {
   "cell_type": "code",
   "execution_count": 395,
   "id": "5969368f",
   "metadata": {},
   "outputs": [],
   "source": [
    "from sklearn.metrics import accuracy_score\n",
    "print(accuracy_score(ytest,prediction))"
   ]
  },
  {
   "cell_type": "code",
   "execution_count": null,
   "id": "eb1a6048",
   "metadata": {},
   "outputs": [],
   "source": []
  },
  {
   "cell_type": "code",
   "execution_count": null,
   "id": "fa491021",
   "metadata": {},
   "outputs": [],
   "source": []
  }
 ],
 "metadata": {
  "kernelspec": {
   "display_name": "Python 3 (ipykernel)",
   "language": "python",
   "name": "python3"
  },
  "language_info": {
   "codemirror_mode": {
    "name": "ipython",
    "version": 3
   },
   "file_extension": ".py",
   "mimetype": "text/x-python",
   "name": "python",
   "nbconvert_exporter": "python",
   "pygments_lexer": "ipython3",
   "version": "3.9.7"
  }
 },
 "nbformat": 4,
 "nbformat_minor": 5
}
