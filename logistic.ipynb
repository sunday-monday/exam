{
 "cells": [
  {
   "cell_type": "code",
   "execution_count": 459,
   "id": "f5cf843c",
   "metadata": {},
   "outputs": [],
   "source": [
    "from math import exp\n",
    "import pandas as pd\n",
    "import numpy as np\n",
    "from sklearn.model_selection import train_test_split\n",
    "from sklearn.model_selection import KFold\n",
    "from sklearn.preprocessing import StandardScaler"
   ]
  },
  {
   "cell_type": "code",
   "execution_count": 460,
   "id": "20bd3453",
   "metadata": {},
   "outputs": [
    {
     "data": {
      "text/html": [
       "<div>\n",
       "<style scoped>\n",
       "    .dataframe tbody tr th:only-of-type {\n",
       "        vertical-align: middle;\n",
       "    }\n",
       "\n",
       "    .dataframe tbody tr th {\n",
       "        vertical-align: top;\n",
       "    }\n",
       "\n",
       "    .dataframe thead th {\n",
       "        text-align: right;\n",
       "    }\n",
       "</style>\n",
       "<table border=\"1\" class=\"dataframe\">\n",
       "  <thead>\n",
       "    <tr style=\"text-align: right;\">\n",
       "      <th></th>\n",
       "      <th>x1</th>\n",
       "      <th>x2</th>\n",
       "      <th>y</th>\n",
       "    </tr>\n",
       "  </thead>\n",
       "  <tbody>\n",
       "    <tr>\n",
       "      <th>0</th>\n",
       "      <td>34.623660</td>\n",
       "      <td>78.024693</td>\n",
       "      <td>0</td>\n",
       "    </tr>\n",
       "    <tr>\n",
       "      <th>1</th>\n",
       "      <td>30.286711</td>\n",
       "      <td>43.894998</td>\n",
       "      <td>0</td>\n",
       "    </tr>\n",
       "    <tr>\n",
       "      <th>2</th>\n",
       "      <td>35.847409</td>\n",
       "      <td>72.902198</td>\n",
       "      <td>0</td>\n",
       "    </tr>\n",
       "    <tr>\n",
       "      <th>3</th>\n",
       "      <td>60.182599</td>\n",
       "      <td>86.308552</td>\n",
       "      <td>1</td>\n",
       "    </tr>\n",
       "    <tr>\n",
       "      <th>4</th>\n",
       "      <td>79.032736</td>\n",
       "      <td>75.344376</td>\n",
       "      <td>1</td>\n",
       "    </tr>\n",
       "  </tbody>\n",
       "</table>\n",
       "</div>"
      ],
      "text/plain": [
       "          x1         x2  y\n",
       "0  34.623660  78.024693  0\n",
       "1  30.286711  43.894998  0\n",
       "2  35.847409  72.902198  0\n",
       "3  60.182599  86.308552  1\n",
       "4  79.032736  75.344376  1"
      ]
     },
     "execution_count": 460,
     "metadata": {},
     "output_type": "execute_result"
    }
   ],
   "source": [
    "df=pd.read_csv('stud-univ.csv',names=['x1','x2','y'])\n",
    "df.head(5)"
   ]
  },
  {
   "cell_type": "code",
   "execution_count": 461,
   "id": "62cab759",
   "metadata": {},
   "outputs": [],
   "source": [
    "#missing values imputation\n",
    "from sklearn.impute import SimpleImputer\n",
    "preprocessor = SimpleImputer(missing_values=np.nan, strategy='mean')\n",
    "X = np.array(df[:-1]).reshape(-1,1)\n",
    "X=preprocessor.fit_transform(X)"
   ]
  },
  {
   "cell_type": "code",
   "execution_count": 462,
   "id": "594254de",
   "metadata": {},
   "outputs": [],
   "source": [
    "#noise\n",
    "df=np.random.normal(df)"
   ]
  },
  {
   "cell_type": "code",
   "execution_count": 463,
   "id": "3ba3840b",
   "metadata": {},
   "outputs": [
    {
     "data": {
      "text/plain": [
       "array([[-1.60224763,  0.63834112],\n",
       "       [-1.82625564, -1.2075414 ],\n",
       "       [-1.53903969,  0.3612943 ],\n",
       "       [-0.28210129,  1.0863683 ],\n",
       "       [ 0.69152826,  0.49337794]])"
      ]
     },
     "execution_count": 463,
     "metadata": {},
     "output_type": "execute_result"
    }
   ],
   "source": [
    "#NaN\n",
    "df=pd.read_csv('stud-univ.csv',names=['x1','x2','y'])\n",
    "df.dropna()\n",
    "x=df.drop(columns=['y']).values\n",
    "x=preprocessing.scale(x)\n",
    "y=df['y'].values\n",
    "x[:5]"
   ]
  },
  {
   "cell_type": "code",
   "execution_count": 464,
   "id": "3524fef4",
   "metadata": {},
   "outputs": [],
   "source": [
    "kf = KFold(n_splits=5) "
   ]
  },
  {
   "cell_type": "code",
   "execution_count": 465,
   "id": "16371849",
   "metadata": {},
   "outputs": [],
   "source": [
    "for train_index , test_index in kf.split(x):\n",
    "    xtrain,xtest,ytrain,ytest=train_test_split(x,y)\n",
    "    x1=xtrain[:,0]\n",
    "    x2=xtrain[:,1]\n",
    "    b0=0.0\n",
    "    b1=0.0\n",
    "    b2=0.0\n",
    "    alpha=0.01\n",
    "    epoch=100\n",
    "    for j in range(epoch):\n",
    "        for i in range(len(xtrain)):\n",
    "            pred=1/(1+np.exp(-(b0+b1*x1[i]+b2*x2[i])))\n",
    "            b0=b0+(alpha*(ytrain[i]-pred)*pred*(1-pred)*1)\n",
    "            b1=b1+(alpha*(ytrain[i]-pred)*pred*(1-pred)*x1[i])\n",
    "            b2=b2+(alpha*(ytrain[i]-pred)*pred*(1-pred)*x2[i])\n",
    "        "
   ]
  },
  {
   "cell_type": "code",
   "execution_count": 466,
   "id": "e4f4467a",
   "metadata": {},
   "outputs": [
    {
     "name": "stdout",
     "output_type": "stream",
     "text": [
      "0.5504431323792238\n",
      "1.418913267314562\n",
      "1.3484622925918623\n"
     ]
    }
   ],
   "source": [
    "print(b0)\n",
    "print(b1)\n",
    "print(b2)"
   ]
  },
  {
   "cell_type": "code",
   "execution_count": 467,
   "id": "ac7921d3",
   "metadata": {},
   "outputs": [],
   "source": [
    "x1=xtest[:,0]\n",
    "x2=xtest[:,1]\n",
    "prediction=[]"
   ]
  },
  {
   "cell_type": "code",
   "execution_count": 468,
   "id": "e02b175b",
   "metadata": {},
   "outputs": [],
   "source": [
    "for i in range(len(xtest)):\n",
    "    pred=1/(1+np.exp(-(b0+b1*x1[i]+b2*x2[i])))\n",
    "    prediction.append(np.round(pred))"
   ]
  },
  {
   "cell_type": "code",
   "execution_count": 469,
   "id": "5969368f",
   "metadata": {},
   "outputs": [
    {
     "name": "stdout",
     "output_type": "stream",
     "text": [
      "0.84\n"
     ]
    }
   ],
   "source": [
    "from sklearn.metrics import accuracy_score\n",
    "print(accuracy_score(ytest,prediction))"
   ]
  },
  {
   "cell_type": "code",
   "execution_count": null,
   "id": "eb1a6048",
   "metadata": {},
   "outputs": [],
   "source": []
  },
  {
   "cell_type": "code",
   "execution_count": null,
   "id": "fa491021",
   "metadata": {},
   "outputs": [],
   "source": []
  }
 ],
 "metadata": {
  "kernelspec": {
   "display_name": "Python 3 (ipykernel)",
   "language": "python",
   "name": "python3"
  },
  "language_info": {
   "codemirror_mode": {
    "name": "ipython",
    "version": 3
   },
   "file_extension": ".py",
   "mimetype": "text/x-python",
   "name": "python",
   "nbconvert_exporter": "python",
   "pygments_lexer": "ipython3",
   "version": "3.9.7"
  }
 },
 "nbformat": 4,
 "nbformat_minor": 5
}
