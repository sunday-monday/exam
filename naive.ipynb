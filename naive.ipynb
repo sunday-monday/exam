{
 "cells": [
  {
   "cell_type": "code",
   "execution_count": 93,
   "id": "64cff1b6",
   "metadata": {},
   "outputs": [],
   "source": [
    "import numpy as np\n",
    "import pandas as pd\n",
    "from sklearn.preprocessing import LabelEncoder\n",
    "from sklearn.model_selection import train_test_split\n",
    "from sklearn.naive_bayes import MultinomialNB\n",
    "from sklearn.metrics import accuracy_score, classification_report\n",
    "from sklearn.metrics import roc_curve\n",
    "import matplotlib.pyplot as plt"
   ]
  },
  {
   "cell_type": "code",
   "execution_count": 94,
   "id": "fd6e56fe",
   "metadata": {},
   "outputs": [
    {
     "data": {
      "text/html": [
       "<div>\n",
       "<style scoped>\n",
       "    .dataframe tbody tr th:only-of-type {\n",
       "        vertical-align: middle;\n",
       "    }\n",
       "\n",
       "    .dataframe tbody tr th {\n",
       "        vertical-align: top;\n",
       "    }\n",
       "\n",
       "    .dataframe thead th {\n",
       "        text-align: right;\n",
       "    }\n",
       "</style>\n",
       "<table border=\"1\" class=\"dataframe\">\n",
       "  <thead>\n",
       "    <tr style=\"text-align: right;\">\n",
       "      <th></th>\n",
       "      <th>no</th>\n",
       "      <th>pc</th>\n",
       "      <th>wbc</th>\n",
       "      <th>mc</th>\n",
       "      <th>ast</th>\n",
       "      <th>bc</th>\n",
       "      <th>ldh</th>\n",
       "      <th>diagnosis</th>\n",
       "    </tr>\n",
       "  </thead>\n",
       "  <tbody>\n",
       "    <tr>\n",
       "      <th>0</th>\n",
       "      <td>1</td>\n",
       "      <td>Low</td>\n",
       "      <td>Low</td>\n",
       "      <td>Low</td>\n",
       "      <td>High</td>\n",
       "      <td>Normal</td>\n",
       "      <td>Normal</td>\n",
       "      <td>True</td>\n",
       "    </tr>\n",
       "    <tr>\n",
       "      <th>1</th>\n",
       "      <td>2</td>\n",
       "      <td>Low</td>\n",
       "      <td>Low</td>\n",
       "      <td>Normal</td>\n",
       "      <td>High</td>\n",
       "      <td>Normal</td>\n",
       "      <td>High</td>\n",
       "      <td>True</td>\n",
       "    </tr>\n",
       "    <tr>\n",
       "      <th>2</th>\n",
       "      <td>3</td>\n",
       "      <td>Low</td>\n",
       "      <td>High</td>\n",
       "      <td>Normal</td>\n",
       "      <td>High</td>\n",
       "      <td>Normal</td>\n",
       "      <td>Normal</td>\n",
       "      <td>False</td>\n",
       "    </tr>\n",
       "    <tr>\n",
       "      <th>3</th>\n",
       "      <td>4</td>\n",
       "      <td>Low</td>\n",
       "      <td>High</td>\n",
       "      <td>Normal</td>\n",
       "      <td>High</td>\n",
       "      <td>High</td>\n",
       "      <td>Normal</td>\n",
       "      <td>True</td>\n",
       "    </tr>\n",
       "    <tr>\n",
       "      <th>4</th>\n",
       "      <td>5</td>\n",
       "      <td>Low</td>\n",
       "      <td>Normal</td>\n",
       "      <td>High</td>\n",
       "      <td>High</td>\n",
       "      <td>Normal</td>\n",
       "      <td>Normal</td>\n",
       "      <td>False</td>\n",
       "    </tr>\n",
       "  </tbody>\n",
       "</table>\n",
       "</div>"
      ],
      "text/plain": [
       "   no   pc     wbc      mc   ast      bc     ldh  diagnosis\n",
       "0   1  Low     Low     Low  High  Normal  Normal       True\n",
       "1   2  Low     Low  Normal  High  Normal    High       True\n",
       "2   3  Low    High  Normal  High  Normal  Normal      False\n",
       "3   4  Low    High  Normal  High    High  Normal       True\n",
       "4   5  Low  Normal    High  High  Normal  Normal      False"
      ]
     },
     "execution_count": 94,
     "metadata": {},
     "output_type": "execute_result"
    }
   ],
   "source": [
    "df=pd.read_csv('covid.csv')\n",
    "df.head(5)"
   ]
  },
  {
   "cell_type": "code",
   "execution_count": 95,
   "id": "a00fd3f4",
   "metadata": {},
   "outputs": [],
   "source": [
    "le=LabelEncoder()\n",
    "pc=le.fit_transform(df['pc'].values)\n",
    "wbc=le.fit_transform(df['wbc'].values)\n",
    "mc=le.fit_transform(df['mc'].values)\n",
    "ast=le.fit_transform(df['ast'].values)\n",
    "ldh=le.fit_transform(df['ldh'].values)\n",
    "y=le.fit_transform(df['diagnosis'].values)"
   ]
  },
  {
   "cell_type": "code",
   "execution_count": 96,
   "id": "133295ec",
   "metadata": {},
   "outputs": [],
   "source": [
    "x=np.array(list(zip(pc,wbc,mc,ast,ldh)))"
   ]
  },
  {
   "cell_type": "code",
   "execution_count": 97,
   "id": "b3ee6a3f",
   "metadata": {},
   "outputs": [],
   "source": [
    "xtrain,xtest,ytrain,ytest=train_test_split(x,y,test_size=0.20,random_state=10)"
   ]
  },
  {
   "cell_type": "code",
   "execution_count": 98,
   "id": "5089bcdf",
   "metadata": {},
   "outputs": [],
   "source": [
    "model= MultinomialNB()\n",
    "model.fit(xtrain,ytrain)\n",
    "ypred=model.predict(xtest)"
   ]
  },
  {
   "cell_type": "code",
   "execution_count": 99,
   "id": "f661b19f",
   "metadata": {},
   "outputs": [
    {
     "name": "stdout",
     "output_type": "stream",
     "text": [
      "accuracy:  0.6\n",
      "classification report:                precision    recall  f1-score   support\n",
      "\n",
      "           0       0.50      0.50      0.50         2\n",
      "           1       0.67      0.67      0.67         3\n",
      "\n",
      "    accuracy                           0.60         5\n",
      "   macro avg       0.58      0.58      0.58         5\n",
      "weighted avg       0.60      0.60      0.60         5\n",
      "\n"
     ]
    }
   ],
   "source": [
    "print(\"accuracy: \",accuracy_score(ytest,ypred))\n",
    "print(\"classification report: \",classification_report(ytest,ypred))"
   ]
  },
  {
   "cell_type": "code",
   "execution_count": 100,
   "id": "54096945",
   "metadata": {},
   "outputs": [],
   "source": [
    "lr_proba=model.predict_proba(xtest)\n",
    "positives=lr_proba[:,1]\n",
    "fpr,tpr,_=roc_curve(ytest,positives)"
   ]
  },
  {
   "cell_type": "code",
   "execution_count": 92,
   "id": "0f8af3e7",
   "metadata": {},
   "outputs": [
    {
     "data": {
      "image/png": "[encoded data removed]",
      "text/plain": [
       "<Figure size 432x288 with 1 Axes>"
      ]
     },
     "metadata": {
      "needs_background": "light"
     },
     "output_type": "display_data"
    }
   ],
   "source": [
    "plt.plot(fpr,tpr,marker=\".\")\n",
    "plt.xlabel('fpr')\n",
    "plt.ylabel('tpr')\n",
    "plt.show()"
   ]
  },
  {
   "cell_type": "code",
   "execution_count": null,
   "id": "1dc4c1fa",
   "metadata": {},
   "outputs": [],
   "source": []
  },
  {
   "cell_type": "code",
   "execution_count": null,
   "id": "abe22164",
   "metadata": {},
   "outputs": [],
   "source": []
  },
  {
   "cell_type": "code",
   "execution_count": null,
   "id": "253a0df4",
   "metadata": {},
   "outputs": [],
   "source": []
  },
  {
   "cell_type": "code",
   "execution_count": null,
   "id": "4dcb0710",
   "metadata": {},
   "outputs": [],
   "source": []
  }
 ],
 "metadata": {
  "kernelspec": {
   "display_name": "Python 3 (ipykernel)",
   "language": "python",
   "name": "python3"
  },
  "language_info": {
   "codemirror_mode": {
    "name": "ipython",
    "version": 3
   },
   "file_extension": ".py",
   "mimetype": "text/x-python",
   "name": "python",
   "nbconvert_exporter": "python",
   "pygments_lexer": "ipython3",
   "version": "3.9.7"
  }
 },
 "nbformat": 4,
 "nbformat_minor": 5
}
